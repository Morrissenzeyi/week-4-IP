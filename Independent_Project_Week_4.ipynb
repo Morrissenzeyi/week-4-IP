{
  "nbformat": 4,
  "nbformat_minor": 0,
  "metadata": {
    "colab": {
      "name": "Independent Project - Week 4",
      "provenance": [],
      "collapsed_sections": [],
      "toc_visible": true,
      "authorship_tag": "ABX9TyMa0SR/77rCLkSkNkN4i/Iu",
      "include_colab_link": true
    },
    "kernelspec": {
      "name": "python3",
      "display_name": "Python 3"
    },
    "language_info": {
      "name": "python"
    }
  },
  "cells": [
    {
      "cell_type": "markdown",
      "metadata": {
        "id": "view-in-github",
        "colab_type": "text"
      },
      "source": [
        "<a href=\"https://colab.research.google.com/github/Morrissenzeyi/week-4-IP/blob/main/Independent_Project_Week_4.ipynb\" target=\"_parent\"><img src=\"https://colab.research.google.com/assets/colab-badge.svg\" alt=\"Open In Colab\"/></a>"
      ]
    },
    {
      "cell_type": "markdown",
      "metadata": {
        "id": "YbclPni-kUhM"
      },
      "source": [
        "# **Python Data Cleaning and Analysis - electric car-sharing service company**"
      ]
    },
    {
      "cell_type": "markdown",
      "metadata": {
        "id": "9SKNwQ2RlMby"
      },
      "source": [
        "1.0 Importing our Libraries"
      ]
    },
    {
      "cell_type": "code",
      "metadata": {
        "id": "FvDwWbYojs5X"
      },
      "source": [
        "# Importing the pandas library\n",
        "import pandas as pd\n",
        "# Importing the numpy library\n",
        "import numpy as np\n"
      ],
      "execution_count": 1,
      "outputs": []
    },
    {
      "cell_type": "markdown",
      "metadata": {
        "id": "1CTGQWiZlkhV"
      },
      "source": [
        "1.1 Reading the Dataset from our CSV file\n"
      ]
    },
    {
      "cell_type": "code",
      "metadata": {
        "colab": {
          "base_uri": "https://localhost:8080/",
          "height": 779
        },
        "id": "eh9gPi6UloVs",
        "outputId": "5df15a16-53f0-4582-be9f-97d880850dd9"
      },
      "source": [
        "df = pd.read_csv('/content/Autolib_dataset (2).csv')\n",
        "df"
      ],
      "execution_count": 2,
      "outputs": [
        {
          "output_type": "execute_result",
          "data": {
            "text/html": [
              "<div>\n",
              "<style scoped>\n",
              "    .dataframe tbody tr th:only-of-type {\n",
              "        vertical-align: middle;\n",
              "    }\n",
              "\n",
              "    .dataframe tbody tr th {\n",
              "        vertical-align: top;\n",
              "    }\n",
              "\n",
              "    .dataframe thead th {\n",
              "        text-align: right;\n",
              "    }\n",
              "</style>\n",
              "<table border=\"1\" class=\"dataframe\">\n",
              "  <thead>\n",
              "    <tr style=\"text-align: right;\">\n",
              "      <th></th>\n",
              "      <th>Address</th>\n",
              "      <th>Cars</th>\n",
              "      <th>Bluecar counter</th>\n",
              "      <th>Utilib counter</th>\n",
              "      <th>Utilib 1.4 counter</th>\n",
              "      <th>Charge Slots</th>\n",
              "      <th>Charging Status</th>\n",
              "      <th>City</th>\n",
              "      <th>Displayed comment</th>\n",
              "      <th>ID</th>\n",
              "      <th>Kind</th>\n",
              "      <th>Geo point</th>\n",
              "      <th>Postal code</th>\n",
              "      <th>Public name</th>\n",
              "      <th>Rental status</th>\n",
              "      <th>Scheduled at</th>\n",
              "      <th>Slots</th>\n",
              "      <th>Station type</th>\n",
              "      <th>Status</th>\n",
              "      <th>Subscription status</th>\n",
              "      <th>year</th>\n",
              "      <th>month</th>\n",
              "      <th>day</th>\n",
              "      <th>hour</th>\n",
              "      <th>minute</th>\n",
              "    </tr>\n",
              "  </thead>\n",
              "  <tbody>\n",
              "    <tr>\n",
              "      <th>0</th>\n",
              "      <td>2 Avenue de Suffren</td>\n",
              "      <td>0</td>\n",
              "      <td>0</td>\n",
              "      <td>0</td>\n",
              "      <td>0</td>\n",
              "      <td>0</td>\n",
              "      <td>nonexistent</td>\n",
              "      <td>Paris</td>\n",
              "      <td>NaN</td>\n",
              "      <td>paris-suffren-2</td>\n",
              "      <td>STATION</td>\n",
              "      <td>48.857, 2.2917</td>\n",
              "      <td>75015</td>\n",
              "      <td>Paris/Suffren/2</td>\n",
              "      <td>operational</td>\n",
              "      <td>NaN</td>\n",
              "      <td>2</td>\n",
              "      <td>station</td>\n",
              "      <td>ok</td>\n",
              "      <td>nonexistent</td>\n",
              "      <td>2018</td>\n",
              "      <td>4</td>\n",
              "      <td>8</td>\n",
              "      <td>11</td>\n",
              "      <td>43</td>\n",
              "    </tr>\n",
              "    <tr>\n",
              "      <th>1</th>\n",
              "      <td>145 Rue Raymond Losserand</td>\n",
              "      <td>6</td>\n",
              "      <td>6</td>\n",
              "      <td>0</td>\n",
              "      <td>0</td>\n",
              "      <td>0</td>\n",
              "      <td>operational</td>\n",
              "      <td>Paris</td>\n",
              "      <td>NaN</td>\n",
              "      <td>paris-raymondlosserand-145</td>\n",
              "      <td>STATION</td>\n",
              "      <td>48.83126, 2.313088</td>\n",
              "      <td>75014</td>\n",
              "      <td>Paris/Raymond Losserand/145</td>\n",
              "      <td>operational</td>\n",
              "      <td>NaN</td>\n",
              "      <td>0</td>\n",
              "      <td>station</td>\n",
              "      <td>ok</td>\n",
              "      <td>nonexistent</td>\n",
              "      <td>2018</td>\n",
              "      <td>4</td>\n",
              "      <td>6</td>\n",
              "      <td>7</td>\n",
              "      <td>24</td>\n",
              "    </tr>\n",
              "    <tr>\n",
              "      <th>2</th>\n",
              "      <td>2 Avenue John Fitzgerald Kennedy</td>\n",
              "      <td>3</td>\n",
              "      <td>3</td>\n",
              "      <td>0</td>\n",
              "      <td>2</td>\n",
              "      <td>0</td>\n",
              "      <td>operational</td>\n",
              "      <td>Le Bourget</td>\n",
              "      <td>NaN</td>\n",
              "      <td>lebourget-johnfitzgeraldkennedy-2</td>\n",
              "      <td>STATION</td>\n",
              "      <td>48.938103, 2.4286035</td>\n",
              "      <td>93350</td>\n",
              "      <td>Le Bourget/John Fitzgerald Kennedy/2</td>\n",
              "      <td>operational</td>\n",
              "      <td>NaN</td>\n",
              "      <td>1</td>\n",
              "      <td>station</td>\n",
              "      <td>ok</td>\n",
              "      <td>nonexistent</td>\n",
              "      <td>2018</td>\n",
              "      <td>4</td>\n",
              "      <td>3</td>\n",
              "      <td>20</td>\n",
              "      <td>14</td>\n",
              "    </tr>\n",
              "    <tr>\n",
              "      <th>3</th>\n",
              "      <td>51 Rue EugÃ¨ne OudinÃ©</td>\n",
              "      <td>3</td>\n",
              "      <td>3</td>\n",
              "      <td>1</td>\n",
              "      <td>0</td>\n",
              "      <td>1</td>\n",
              "      <td>operational</td>\n",
              "      <td>Paris</td>\n",
              "      <td>NaN</td>\n",
              "      <td>paris-eugeneoudine-51</td>\n",
              "      <td>STATION</td>\n",
              "      <td>48.8250327, 2.3725162</td>\n",
              "      <td>75013</td>\n",
              "      <td>Paris/EugÃ¨ne OudinÃ©/51</td>\n",
              "      <td>operational</td>\n",
              "      <td>NaN</td>\n",
              "      <td>2</td>\n",
              "      <td>station</td>\n",
              "      <td>ok</td>\n",
              "      <td>nonexistent</td>\n",
              "      <td>2018</td>\n",
              "      <td>4</td>\n",
              "      <td>4</td>\n",
              "      <td>4</td>\n",
              "      <td>37</td>\n",
              "    </tr>\n",
              "    <tr>\n",
              "      <th>4</th>\n",
              "      <td>6 avenue de la Porte de Champerret</td>\n",
              "      <td>3</td>\n",
              "      <td>3</td>\n",
              "      <td>0</td>\n",
              "      <td>0</td>\n",
              "      <td>0</td>\n",
              "      <td>nonexistent</td>\n",
              "      <td>Paris</td>\n",
              "      <td>NaN</td>\n",
              "      <td>paris-portedechamperret-6</td>\n",
              "      <td>PARKING</td>\n",
              "      <td>48.8862632, 2.2874511</td>\n",
              "      <td>75017</td>\n",
              "      <td>Paris/Porte de Champerret/6</td>\n",
              "      <td>operational</td>\n",
              "      <td>NaN</td>\n",
              "      <td>3</td>\n",
              "      <td>station</td>\n",
              "      <td>ok</td>\n",
              "      <td>nonexistent</td>\n",
              "      <td>2018</td>\n",
              "      <td>4</td>\n",
              "      <td>8</td>\n",
              "      <td>17</td>\n",
              "      <td>23</td>\n",
              "    </tr>\n",
              "    <tr>\n",
              "      <th>...</th>\n",
              "      <td>...</td>\n",
              "      <td>...</td>\n",
              "      <td>...</td>\n",
              "      <td>...</td>\n",
              "      <td>...</td>\n",
              "      <td>...</td>\n",
              "      <td>...</td>\n",
              "      <td>...</td>\n",
              "      <td>...</td>\n",
              "      <td>...</td>\n",
              "      <td>...</td>\n",
              "      <td>...</td>\n",
              "      <td>...</td>\n",
              "      <td>...</td>\n",
              "      <td>...</td>\n",
              "      <td>...</td>\n",
              "      <td>...</td>\n",
              "      <td>...</td>\n",
              "      <td>...</td>\n",
              "      <td>...</td>\n",
              "      <td>...</td>\n",
              "      <td>...</td>\n",
              "      <td>...</td>\n",
              "      <td>...</td>\n",
              "      <td>...</td>\n",
              "    </tr>\n",
              "    <tr>\n",
              "      <th>4995</th>\n",
              "      <td>8 avenue MÃ©nelotte</td>\n",
              "      <td>2</td>\n",
              "      <td>2</td>\n",
              "      <td>0</td>\n",
              "      <td>0</td>\n",
              "      <td>0</td>\n",
              "      <td>nonexistent</td>\n",
              "      <td>Colombes</td>\n",
              "      <td>NaN</td>\n",
              "      <td>colombes-menelotte-8</td>\n",
              "      <td>STATION</td>\n",
              "      <td>48.9246525, 2.259313</td>\n",
              "      <td>92700</td>\n",
              "      <td>Colombes/MÃ©nelotte/8</td>\n",
              "      <td>operational</td>\n",
              "      <td>NaN</td>\n",
              "      <td>3</td>\n",
              "      <td>station</td>\n",
              "      <td>ok</td>\n",
              "      <td>nonexistent</td>\n",
              "      <td>2018</td>\n",
              "      <td>4</td>\n",
              "      <td>6</td>\n",
              "      <td>11</td>\n",
              "      <td>26</td>\n",
              "    </tr>\n",
              "    <tr>\n",
              "      <th>4996</th>\n",
              "      <td>37 rue de Dantzig</td>\n",
              "      <td>4</td>\n",
              "      <td>4</td>\n",
              "      <td>0</td>\n",
              "      <td>0</td>\n",
              "      <td>1</td>\n",
              "      <td>operational</td>\n",
              "      <td>Paris</td>\n",
              "      <td>NaN</td>\n",
              "      <td>paris-dantzig-37</td>\n",
              "      <td>STATION</td>\n",
              "      <td>48.8335103, 2.2987201</td>\n",
              "      <td>75015</td>\n",
              "      <td>Paris/Dantzig/37</td>\n",
              "      <td>operational</td>\n",
              "      <td>NaN</td>\n",
              "      <td>2</td>\n",
              "      <td>station</td>\n",
              "      <td>ok</td>\n",
              "      <td>nonexistent</td>\n",
              "      <td>2018</td>\n",
              "      <td>4</td>\n",
              "      <td>4</td>\n",
              "      <td>16</td>\n",
              "      <td>56</td>\n",
              "    </tr>\n",
              "    <tr>\n",
              "      <th>4997</th>\n",
              "      <td>142 rue du Bac</td>\n",
              "      <td>1</td>\n",
              "      <td>1</td>\n",
              "      <td>0</td>\n",
              "      <td>0</td>\n",
              "      <td>1</td>\n",
              "      <td>operational</td>\n",
              "      <td>Paris</td>\n",
              "      <td>NaN</td>\n",
              "      <td>paris-bac-142</td>\n",
              "      <td>STATION</td>\n",
              "      <td>48.8508194, 2.3237968</td>\n",
              "      <td>75007</td>\n",
              "      <td>Paris/Bac/142</td>\n",
              "      <td>operational</td>\n",
              "      <td>NaN</td>\n",
              "      <td>4</td>\n",
              "      <td>station</td>\n",
              "      <td>ok</td>\n",
              "      <td>nonexistent</td>\n",
              "      <td>2018</td>\n",
              "      <td>4</td>\n",
              "      <td>1</td>\n",
              "      <td>7</td>\n",
              "      <td>1</td>\n",
              "    </tr>\n",
              "    <tr>\n",
              "      <th>4998</th>\n",
              "      <td>2 avenue du Val de Fontenay</td>\n",
              "      <td>2</td>\n",
              "      <td>2</td>\n",
              "      <td>0</td>\n",
              "      <td>0</td>\n",
              "      <td>0</td>\n",
              "      <td>nonexistent</td>\n",
              "      <td>Fontenay-Sous-Bois</td>\n",
              "      <td>NaN</td>\n",
              "      <td>fontenaysousbois-valdefontenay-2</td>\n",
              "      <td>STATION</td>\n",
              "      <td>48.8528247, 2.4869085</td>\n",
              "      <td>94120</td>\n",
              "      <td>Fontenay-Sous-Bois/Val de Fontenay/2</td>\n",
              "      <td>operational</td>\n",
              "      <td>NaN</td>\n",
              "      <td>3</td>\n",
              "      <td>station</td>\n",
              "      <td>ok</td>\n",
              "      <td>nonexistent</td>\n",
              "      <td>2018</td>\n",
              "      <td>4</td>\n",
              "      <td>4</td>\n",
              "      <td>17</td>\n",
              "      <td>27</td>\n",
              "    </tr>\n",
              "    <tr>\n",
              "      <th>4999</th>\n",
              "      <td>5 Rue Henry Brisson</td>\n",
              "      <td>4</td>\n",
              "      <td>4</td>\n",
              "      <td>0</td>\n",
              "      <td>0</td>\n",
              "      <td>0</td>\n",
              "      <td>operational</td>\n",
              "      <td>Paris</td>\n",
              "      <td>NaN</td>\n",
              "      <td>paris-henrybrisson-5</td>\n",
              "      <td>STATION</td>\n",
              "      <td>48.8984293, 2.3347923</td>\n",
              "      <td>75018</td>\n",
              "      <td>Paris/Henry Brisson/5</td>\n",
              "      <td>operational</td>\n",
              "      <td>NaN</td>\n",
              "      <td>0</td>\n",
              "      <td>station</td>\n",
              "      <td>ok</td>\n",
              "      <td>nonexistent</td>\n",
              "      <td>2018</td>\n",
              "      <td>4</td>\n",
              "      <td>8</td>\n",
              "      <td>10</td>\n",
              "      <td>2</td>\n",
              "    </tr>\n",
              "  </tbody>\n",
              "</table>\n",
              "<p>5000 rows × 25 columns</p>\n",
              "</div>"
            ],
            "text/plain": [
              "                                 Address  Cars  ...  hour  minute\n",
              "0                    2 Avenue de Suffren     0  ...    11      43\n",
              "1              145 Rue Raymond Losserand     6  ...     7      24\n",
              "2       2 Avenue John Fitzgerald Kennedy     3  ...    20      14\n",
              "3                 51 Rue EugÃ¨ne OudinÃ©     3  ...     4      37\n",
              "4     6 avenue de la Porte de Champerret     3  ...    17      23\n",
              "...                                  ...   ...  ...   ...     ...\n",
              "4995                 8 avenue MÃ©nelotte     2  ...    11      26\n",
              "4996                   37 rue de Dantzig     4  ...    16      56\n",
              "4997                      142 rue du Bac     1  ...     7       1\n",
              "4998         2 avenue du Val de Fontenay     2  ...    17      27\n",
              "4999                 5 Rue Henry Brisson     4  ...    10       2\n",
              "\n",
              "[5000 rows x 25 columns]"
            ]
          },
          "metadata": {
            "tags": []
          },
          "execution_count": 2
        }
      ]
    },
    {
      "cell_type": "markdown",
      "metadata": {
        "id": "s-zLnXfmmN31"
      },
      "source": [
        "1.3 Accessing Information about our Dataset"
      ]
    },
    {
      "cell_type": "code",
      "metadata": {
        "colab": {
          "base_uri": "https://localhost:8080/"
        },
        "id": "wtfa7lATmJIk",
        "outputId": "23fd89ae-29ae-4b19-abd3-7d354df9f63e"
      },
      "source": [
        "df.info()"
      ],
      "execution_count": 3,
      "outputs": [
        {
          "output_type": "stream",
          "text": [
            "<class 'pandas.core.frame.DataFrame'>\n",
            "RangeIndex: 5000 entries, 0 to 4999\n",
            "Data columns (total 25 columns):\n",
            " #   Column               Non-Null Count  Dtype \n",
            "---  ------               --------------  ----- \n",
            " 0   Address              5000 non-null   object\n",
            " 1   Cars                 5000 non-null   int64 \n",
            " 2   Bluecar counter      5000 non-null   int64 \n",
            " 3   Utilib counter       5000 non-null   int64 \n",
            " 4   Utilib 1.4 counter   5000 non-null   int64 \n",
            " 5   Charge Slots         5000 non-null   int64 \n",
            " 6   Charging Status      5000 non-null   object\n",
            " 7   City                 5000 non-null   object\n",
            " 8   Displayed comment    111 non-null    object\n",
            " 9   ID                   5000 non-null   object\n",
            " 10  Kind                 5000 non-null   object\n",
            " 11  Geo point            5000 non-null   object\n",
            " 12  Postal code          5000 non-null   int64 \n",
            " 13  Public name          5000 non-null   object\n",
            " 14  Rental status        5000 non-null   object\n",
            " 15  Scheduled at         47 non-null     object\n",
            " 16  Slots                5000 non-null   int64 \n",
            " 17  Station type         5000 non-null   object\n",
            " 18  Status               5000 non-null   object\n",
            " 19  Subscription status  5000 non-null   object\n",
            " 20  year                 5000 non-null   int64 \n",
            " 21  month                5000 non-null   int64 \n",
            " 22  day                  5000 non-null   int64 \n",
            " 23  hour                 5000 non-null   int64 \n",
            " 24  minute               5000 non-null   int64 \n",
            "dtypes: int64(12), object(13)\n",
            "memory usage: 976.7+ KB\n"
          ],
          "name": "stdout"
        }
      ]
    },
    {
      "cell_type": "markdown",
      "metadata": {
        "id": "IVIQWSwktHCo"
      },
      "source": [
        "# 1.4 Cleaning our Dataset"
      ]
    },
    {
      "cell_type": "markdown",
      "metadata": {
        "id": "u5CD1zNQjD4b"
      },
      "source": [
        "1.41 **Validity**"
      ]
    },
    {
      "cell_type": "code",
      "metadata": {
        "id": "gTva3Fh-tEo7"
      },
      "source": [
        "# First we drop the columns which are not useful in our data analysis\n",
        "df.drop('Displayed comment', axis = 1, inplace = True)"
      ],
      "execution_count": 4,
      "outputs": []
    },
    {
      "cell_type": "code",
      "metadata": {
        "id": "2wL5hDNxwxR-"
      },
      "source": [
        "df.drop('Geo point', axis = 1, inplace = True)\n",
        "\n",
        "df.drop('Subscription status', axis = 1, inplace = True)"
      ],
      "execution_count": 5,
      "outputs": []
    },
    {
      "cell_type": "code",
      "metadata": {
        "id": "-tuzej6mytCc"
      },
      "source": [
        "df.drop('Scheduled at', axis = 1, inplace = True)"
      ],
      "execution_count": 6,
      "outputs": []
    },
    {
      "cell_type": "code",
      "metadata": {
        "id": "o0aUJagoX4NC"
      },
      "source": [
        "df.drop('Cars', axis = 1, inplace = True)"
      ],
      "execution_count": 7,
      "outputs": []
    },
    {
      "cell_type": "code",
      "metadata": {
        "id": "nbufo6BLdm-W"
      },
      "source": [
        "df.drop('Charge Slots', axis = 1, inplace = True)\n",
        "df.drop('Slots', axis = 1, inplace = True)\n",
        "df.drop('Station type', axis = 1, inplace = True)\n",
        "df.drop('Rental status', axis = 1, inplace = True)\n",
        "df.drop('ID', axis = 1, inplace = True)\n"
      ],
      "execution_count": 8,
      "outputs": []
    },
    {
      "cell_type": "markdown",
      "metadata": {
        "id": "xA6weO_5jWJg"
      },
      "source": [
        "1.4.2 **Accuracy** "
      ]
    },
    {
      "cell_type": "code",
      "metadata": {
        "colab": {
          "base_uri": "https://localhost:8080/"
        },
        "id": "g07VOXrSjbhw",
        "outputId": "0c1a9d04-6bae-440a-ee00-c3940e484e91"
      },
      "source": [
        "#Dropping all rows where the value of 'Bluecar counter' is less than 0 or greater than 7\n",
        "\n",
        "df_removing = df.loc[(df['Bluecar counter'] < 0) & (df['Bluecar counter'] > 7), 'Bluecar counter']\n",
        "df_removing.shape"
      ],
      "execution_count": 9,
      "outputs": [
        {
          "output_type": "execute_result",
          "data": {
            "text/plain": [
              "(0,)"
            ]
          },
          "metadata": {
            "tags": []
          },
          "execution_count": 9
        }
      ]
    },
    {
      "cell_type": "code",
      "metadata": {
        "colab": {
          "base_uri": "https://localhost:8080/"
        },
        "id": "4mqFWi22l9_L",
        "outputId": "c1f00bbc-0c86-48df-9707-d8686fbfd031"
      },
      "source": [
        "#Dropping all rows where the value of 'Utilib counter' is less than 0 or greater than 4\n",
        "df_removing_util_counter = df.loc[(df['Utilib counter'] < 0) & (df['Utilib counter'] > 4), 'Utilib counter']\n",
        "df_removing_util_counter.shape"
      ],
      "execution_count": 10,
      "outputs": [
        {
          "output_type": "execute_result",
          "data": {
            "text/plain": [
              "(0,)"
            ]
          },
          "metadata": {
            "tags": []
          },
          "execution_count": 10
        }
      ]
    },
    {
      "cell_type": "code",
      "metadata": {
        "colab": {
          "base_uri": "https://localhost:8080/"
        },
        "id": "_FKt1SponZrR",
        "outputId": "8dc7e30e-31f3-438a-c893-97fe9ee2481a"
      },
      "source": [
        "#Dropping all rows where the value of 'Utilib 1.4 counter' is less than 0 or greater than 5\n",
        "df_removing_utilib = df.loc[(df['Utilib 1.4 counter'] < 0) & (df['Utilib 1.4 counter'] > 4), 'Utilib 1.4 counter']\n",
        "df_removing_utilib.shape"
      ],
      "execution_count": 11,
      "outputs": [
        {
          "output_type": "execute_result",
          "data": {
            "text/plain": [
              "(0,)"
            ]
          },
          "metadata": {
            "tags": []
          },
          "execution_count": 11
        }
      ]
    },
    {
      "cell_type": "code",
      "metadata": {
        "colab": {
          "base_uri": "https://localhost:8080/"
        },
        "id": "Fcwzx1v4oQEO",
        "outputId": "f5f48136-6666-4ac3-b68a-3e77c6de4e50"
      },
      "source": [
        "#Dropping all rows where the value of 'year' is not 2018\n",
        "df_year = df.loc[df['year'] != 2018, 'year']\n",
        "df_year.shape"
      ],
      "execution_count": 12,
      "outputs": [
        {
          "output_type": "execute_result",
          "data": {
            "text/plain": [
              "(0,)"
            ]
          },
          "metadata": {
            "tags": []
          },
          "execution_count": 12
        }
      ]
    },
    {
      "cell_type": "markdown",
      "metadata": {
        "id": "QWZkVyhlp-xL"
      },
      "source": [
        "# 1.4.3 Completeness"
      ]
    },
    {
      "cell_type": "code",
      "metadata": {
        "colab": {
          "base_uri": "https://localhost:8080/"
        },
        "id": "4OLF_MsHyNtE",
        "outputId": "ff45c24a-229a-4232-ccc8-fb9c63305c3f"
      },
      "source": [
        "# we go ahead and check if we have any null or missing values\n",
        "df.isnull().values.any()\n",
        "df.isnull().sum()"
      ],
      "execution_count": 13,
      "outputs": [
        {
          "output_type": "execute_result",
          "data": {
            "text/plain": [
              "Address               0\n",
              "Bluecar counter       0\n",
              "Utilib counter        0\n",
              "Utilib 1.4 counter    0\n",
              "Charging Status       0\n",
              "City                  0\n",
              "Kind                  0\n",
              "Postal code           0\n",
              "Public name           0\n",
              "Status                0\n",
              "year                  0\n",
              "month                 0\n",
              "day                   0\n",
              "hour                  0\n",
              "minute                0\n",
              "dtype: int64"
            ]
          },
          "metadata": {
            "tags": []
          },
          "execution_count": 13
        }
      ]
    },
    {
      "cell_type": "code",
      "metadata": {
        "colab": {
          "base_uri": "https://localhost:8080/",
          "height": 779
        },
        "id": "GNf5_uXOzEfQ",
        "outputId": "d9d13223-079d-4ca3-b1b8-053009fe1393"
      },
      "source": [
        "df"
      ],
      "execution_count": 14,
      "outputs": [
        {
          "output_type": "execute_result",
          "data": {
            "text/html": [
              "<div>\n",
              "<style scoped>\n",
              "    .dataframe tbody tr th:only-of-type {\n",
              "        vertical-align: middle;\n",
              "    }\n",
              "\n",
              "    .dataframe tbody tr th {\n",
              "        vertical-align: top;\n",
              "    }\n",
              "\n",
              "    .dataframe thead th {\n",
              "        text-align: right;\n",
              "    }\n",
              "</style>\n",
              "<table border=\"1\" class=\"dataframe\">\n",
              "  <thead>\n",
              "    <tr style=\"text-align: right;\">\n",
              "      <th></th>\n",
              "      <th>Address</th>\n",
              "      <th>Bluecar counter</th>\n",
              "      <th>Utilib counter</th>\n",
              "      <th>Utilib 1.4 counter</th>\n",
              "      <th>Charging Status</th>\n",
              "      <th>City</th>\n",
              "      <th>Kind</th>\n",
              "      <th>Postal code</th>\n",
              "      <th>Public name</th>\n",
              "      <th>Status</th>\n",
              "      <th>year</th>\n",
              "      <th>month</th>\n",
              "      <th>day</th>\n",
              "      <th>hour</th>\n",
              "      <th>minute</th>\n",
              "    </tr>\n",
              "  </thead>\n",
              "  <tbody>\n",
              "    <tr>\n",
              "      <th>0</th>\n",
              "      <td>2 Avenue de Suffren</td>\n",
              "      <td>0</td>\n",
              "      <td>0</td>\n",
              "      <td>0</td>\n",
              "      <td>nonexistent</td>\n",
              "      <td>Paris</td>\n",
              "      <td>STATION</td>\n",
              "      <td>75015</td>\n",
              "      <td>Paris/Suffren/2</td>\n",
              "      <td>ok</td>\n",
              "      <td>2018</td>\n",
              "      <td>4</td>\n",
              "      <td>8</td>\n",
              "      <td>11</td>\n",
              "      <td>43</td>\n",
              "    </tr>\n",
              "    <tr>\n",
              "      <th>1</th>\n",
              "      <td>145 Rue Raymond Losserand</td>\n",
              "      <td>6</td>\n",
              "      <td>0</td>\n",
              "      <td>0</td>\n",
              "      <td>operational</td>\n",
              "      <td>Paris</td>\n",
              "      <td>STATION</td>\n",
              "      <td>75014</td>\n",
              "      <td>Paris/Raymond Losserand/145</td>\n",
              "      <td>ok</td>\n",
              "      <td>2018</td>\n",
              "      <td>4</td>\n",
              "      <td>6</td>\n",
              "      <td>7</td>\n",
              "      <td>24</td>\n",
              "    </tr>\n",
              "    <tr>\n",
              "      <th>2</th>\n",
              "      <td>2 Avenue John Fitzgerald Kennedy</td>\n",
              "      <td>3</td>\n",
              "      <td>0</td>\n",
              "      <td>2</td>\n",
              "      <td>operational</td>\n",
              "      <td>Le Bourget</td>\n",
              "      <td>STATION</td>\n",
              "      <td>93350</td>\n",
              "      <td>Le Bourget/John Fitzgerald Kennedy/2</td>\n",
              "      <td>ok</td>\n",
              "      <td>2018</td>\n",
              "      <td>4</td>\n",
              "      <td>3</td>\n",
              "      <td>20</td>\n",
              "      <td>14</td>\n",
              "    </tr>\n",
              "    <tr>\n",
              "      <th>3</th>\n",
              "      <td>51 Rue EugÃ¨ne OudinÃ©</td>\n",
              "      <td>3</td>\n",
              "      <td>1</td>\n",
              "      <td>0</td>\n",
              "      <td>operational</td>\n",
              "      <td>Paris</td>\n",
              "      <td>STATION</td>\n",
              "      <td>75013</td>\n",
              "      <td>Paris/EugÃ¨ne OudinÃ©/51</td>\n",
              "      <td>ok</td>\n",
              "      <td>2018</td>\n",
              "      <td>4</td>\n",
              "      <td>4</td>\n",
              "      <td>4</td>\n",
              "      <td>37</td>\n",
              "    </tr>\n",
              "    <tr>\n",
              "      <th>4</th>\n",
              "      <td>6 avenue de la Porte de Champerret</td>\n",
              "      <td>3</td>\n",
              "      <td>0</td>\n",
              "      <td>0</td>\n",
              "      <td>nonexistent</td>\n",
              "      <td>Paris</td>\n",
              "      <td>PARKING</td>\n",
              "      <td>75017</td>\n",
              "      <td>Paris/Porte de Champerret/6</td>\n",
              "      <td>ok</td>\n",
              "      <td>2018</td>\n",
              "      <td>4</td>\n",
              "      <td>8</td>\n",
              "      <td>17</td>\n",
              "      <td>23</td>\n",
              "    </tr>\n",
              "    <tr>\n",
              "      <th>...</th>\n",
              "      <td>...</td>\n",
              "      <td>...</td>\n",
              "      <td>...</td>\n",
              "      <td>...</td>\n",
              "      <td>...</td>\n",
              "      <td>...</td>\n",
              "      <td>...</td>\n",
              "      <td>...</td>\n",
              "      <td>...</td>\n",
              "      <td>...</td>\n",
              "      <td>...</td>\n",
              "      <td>...</td>\n",
              "      <td>...</td>\n",
              "      <td>...</td>\n",
              "      <td>...</td>\n",
              "    </tr>\n",
              "    <tr>\n",
              "      <th>4995</th>\n",
              "      <td>8 avenue MÃ©nelotte</td>\n",
              "      <td>2</td>\n",
              "      <td>0</td>\n",
              "      <td>0</td>\n",
              "      <td>nonexistent</td>\n",
              "      <td>Colombes</td>\n",
              "      <td>STATION</td>\n",
              "      <td>92700</td>\n",
              "      <td>Colombes/MÃ©nelotte/8</td>\n",
              "      <td>ok</td>\n",
              "      <td>2018</td>\n",
              "      <td>4</td>\n",
              "      <td>6</td>\n",
              "      <td>11</td>\n",
              "      <td>26</td>\n",
              "    </tr>\n",
              "    <tr>\n",
              "      <th>4996</th>\n",
              "      <td>37 rue de Dantzig</td>\n",
              "      <td>4</td>\n",
              "      <td>0</td>\n",
              "      <td>0</td>\n",
              "      <td>operational</td>\n",
              "      <td>Paris</td>\n",
              "      <td>STATION</td>\n",
              "      <td>75015</td>\n",
              "      <td>Paris/Dantzig/37</td>\n",
              "      <td>ok</td>\n",
              "      <td>2018</td>\n",
              "      <td>4</td>\n",
              "      <td>4</td>\n",
              "      <td>16</td>\n",
              "      <td>56</td>\n",
              "    </tr>\n",
              "    <tr>\n",
              "      <th>4997</th>\n",
              "      <td>142 rue du Bac</td>\n",
              "      <td>1</td>\n",
              "      <td>0</td>\n",
              "      <td>0</td>\n",
              "      <td>operational</td>\n",
              "      <td>Paris</td>\n",
              "      <td>STATION</td>\n",
              "      <td>75007</td>\n",
              "      <td>Paris/Bac/142</td>\n",
              "      <td>ok</td>\n",
              "      <td>2018</td>\n",
              "      <td>4</td>\n",
              "      <td>1</td>\n",
              "      <td>7</td>\n",
              "      <td>1</td>\n",
              "    </tr>\n",
              "    <tr>\n",
              "      <th>4998</th>\n",
              "      <td>2 avenue du Val de Fontenay</td>\n",
              "      <td>2</td>\n",
              "      <td>0</td>\n",
              "      <td>0</td>\n",
              "      <td>nonexistent</td>\n",
              "      <td>Fontenay-Sous-Bois</td>\n",
              "      <td>STATION</td>\n",
              "      <td>94120</td>\n",
              "      <td>Fontenay-Sous-Bois/Val de Fontenay/2</td>\n",
              "      <td>ok</td>\n",
              "      <td>2018</td>\n",
              "      <td>4</td>\n",
              "      <td>4</td>\n",
              "      <td>17</td>\n",
              "      <td>27</td>\n",
              "    </tr>\n",
              "    <tr>\n",
              "      <th>4999</th>\n",
              "      <td>5 Rue Henry Brisson</td>\n",
              "      <td>4</td>\n",
              "      <td>0</td>\n",
              "      <td>0</td>\n",
              "      <td>operational</td>\n",
              "      <td>Paris</td>\n",
              "      <td>STATION</td>\n",
              "      <td>75018</td>\n",
              "      <td>Paris/Henry Brisson/5</td>\n",
              "      <td>ok</td>\n",
              "      <td>2018</td>\n",
              "      <td>4</td>\n",
              "      <td>8</td>\n",
              "      <td>10</td>\n",
              "      <td>2</td>\n",
              "    </tr>\n",
              "  </tbody>\n",
              "</table>\n",
              "<p>5000 rows × 15 columns</p>\n",
              "</div>"
            ],
            "text/plain": [
              "                                 Address  Bluecar counter  ...  hour  minute\n",
              "0                    2 Avenue de Suffren                0  ...    11      43\n",
              "1              145 Rue Raymond Losserand                6  ...     7      24\n",
              "2       2 Avenue John Fitzgerald Kennedy                3  ...    20      14\n",
              "3                 51 Rue EugÃ¨ne OudinÃ©                3  ...     4      37\n",
              "4     6 avenue de la Porte de Champerret                3  ...    17      23\n",
              "...                                  ...              ...  ...   ...     ...\n",
              "4995                 8 avenue MÃ©nelotte                2  ...    11      26\n",
              "4996                   37 rue de Dantzig                4  ...    16      56\n",
              "4997                      142 rue du Bac                1  ...     7       1\n",
              "4998         2 avenue du Val de Fontenay                2  ...    17      27\n",
              "4999                 5 Rue Henry Brisson                4  ...    10       2\n",
              "\n",
              "[5000 rows x 15 columns]"
            ]
          },
          "metadata": {
            "tags": []
          },
          "execution_count": 14
        }
      ]
    },
    {
      "cell_type": "markdown",
      "metadata": {
        "id": "aUBGu1mjqa53"
      },
      "source": [
        "# Consistency"
      ]
    },
    {
      "cell_type": "code",
      "metadata": {
        "colab": {
          "base_uri": "https://localhost:8080/"
        },
        "id": "FS6F2pZUzywn",
        "outputId": "e1515f06-9e3a-4bae-925d-7024253f4941"
      },
      "source": [
        "# We also check for duplicate values so as to drop them\n",
        "df.duplicated()\n",
        "df.duplicated().sum()"
      ],
      "execution_count": 15,
      "outputs": [
        {
          "output_type": "execute_result",
          "data": {
            "text/plain": [
              "0"
            ]
          },
          "metadata": {
            "tags": []
          },
          "execution_count": 15
        }
      ]
    },
    {
      "cell_type": "markdown",
      "metadata": {
        "id": "--V1iaP6q4EU"
      },
      "source": [
        "# Uniformity"
      ]
    },
    {
      "cell_type": "code",
      "metadata": {
        "colab": {
          "base_uri": "https://localhost:8080/",
          "height": 411
        },
        "id": "LRBXpxu7QsBw",
        "outputId": "24ccb8b3-43ed-4bde-b0b7-e5c64a939d7c"
      },
      "source": [
        "#changing column names to lower case and make columns appearing\n",
        "df.columns = df.columns.str.strip().str.lower().str.replace(' ', '_').str.replace('(', '').str.replace(')', '')\n",
        "df.head(5)"
      ],
      "execution_count": 16,
      "outputs": [
        {
          "output_type": "execute_result",
          "data": {
            "text/html": [
              "<div>\n",
              "<style scoped>\n",
              "    .dataframe tbody tr th:only-of-type {\n",
              "        vertical-align: middle;\n",
              "    }\n",
              "\n",
              "    .dataframe tbody tr th {\n",
              "        vertical-align: top;\n",
              "    }\n",
              "\n",
              "    .dataframe thead th {\n",
              "        text-align: right;\n",
              "    }\n",
              "</style>\n",
              "<table border=\"1\" class=\"dataframe\">\n",
              "  <thead>\n",
              "    <tr style=\"text-align: right;\">\n",
              "      <th></th>\n",
              "      <th>address</th>\n",
              "      <th>bluecar_counter</th>\n",
              "      <th>utilib_counter</th>\n",
              "      <th>utilib_1.4_counter</th>\n",
              "      <th>charging_status</th>\n",
              "      <th>city</th>\n",
              "      <th>kind</th>\n",
              "      <th>postal_code</th>\n",
              "      <th>public_name</th>\n",
              "      <th>status</th>\n",
              "      <th>year</th>\n",
              "      <th>month</th>\n",
              "      <th>day</th>\n",
              "      <th>hour</th>\n",
              "      <th>minute</th>\n",
              "    </tr>\n",
              "  </thead>\n",
              "  <tbody>\n",
              "    <tr>\n",
              "      <th>0</th>\n",
              "      <td>2 Avenue de Suffren</td>\n",
              "      <td>0</td>\n",
              "      <td>0</td>\n",
              "      <td>0</td>\n",
              "      <td>nonexistent</td>\n",
              "      <td>Paris</td>\n",
              "      <td>STATION</td>\n",
              "      <td>75015</td>\n",
              "      <td>Paris/Suffren/2</td>\n",
              "      <td>ok</td>\n",
              "      <td>2018</td>\n",
              "      <td>4</td>\n",
              "      <td>8</td>\n",
              "      <td>11</td>\n",
              "      <td>43</td>\n",
              "    </tr>\n",
              "    <tr>\n",
              "      <th>1</th>\n",
              "      <td>145 Rue Raymond Losserand</td>\n",
              "      <td>6</td>\n",
              "      <td>0</td>\n",
              "      <td>0</td>\n",
              "      <td>operational</td>\n",
              "      <td>Paris</td>\n",
              "      <td>STATION</td>\n",
              "      <td>75014</td>\n",
              "      <td>Paris/Raymond Losserand/145</td>\n",
              "      <td>ok</td>\n",
              "      <td>2018</td>\n",
              "      <td>4</td>\n",
              "      <td>6</td>\n",
              "      <td>7</td>\n",
              "      <td>24</td>\n",
              "    </tr>\n",
              "    <tr>\n",
              "      <th>2</th>\n",
              "      <td>2 Avenue John Fitzgerald Kennedy</td>\n",
              "      <td>3</td>\n",
              "      <td>0</td>\n",
              "      <td>2</td>\n",
              "      <td>operational</td>\n",
              "      <td>Le Bourget</td>\n",
              "      <td>STATION</td>\n",
              "      <td>93350</td>\n",
              "      <td>Le Bourget/John Fitzgerald Kennedy/2</td>\n",
              "      <td>ok</td>\n",
              "      <td>2018</td>\n",
              "      <td>4</td>\n",
              "      <td>3</td>\n",
              "      <td>20</td>\n",
              "      <td>14</td>\n",
              "    </tr>\n",
              "    <tr>\n",
              "      <th>3</th>\n",
              "      <td>51 Rue EugÃ¨ne OudinÃ©</td>\n",
              "      <td>3</td>\n",
              "      <td>1</td>\n",
              "      <td>0</td>\n",
              "      <td>operational</td>\n",
              "      <td>Paris</td>\n",
              "      <td>STATION</td>\n",
              "      <td>75013</td>\n",
              "      <td>Paris/EugÃ¨ne OudinÃ©/51</td>\n",
              "      <td>ok</td>\n",
              "      <td>2018</td>\n",
              "      <td>4</td>\n",
              "      <td>4</td>\n",
              "      <td>4</td>\n",
              "      <td>37</td>\n",
              "    </tr>\n",
              "    <tr>\n",
              "      <th>4</th>\n",
              "      <td>6 avenue de la Porte de Champerret</td>\n",
              "      <td>3</td>\n",
              "      <td>0</td>\n",
              "      <td>0</td>\n",
              "      <td>nonexistent</td>\n",
              "      <td>Paris</td>\n",
              "      <td>PARKING</td>\n",
              "      <td>75017</td>\n",
              "      <td>Paris/Porte de Champerret/6</td>\n",
              "      <td>ok</td>\n",
              "      <td>2018</td>\n",
              "      <td>4</td>\n",
              "      <td>8</td>\n",
              "      <td>17</td>\n",
              "      <td>23</td>\n",
              "    </tr>\n",
              "  </tbody>\n",
              "</table>\n",
              "</div>"
            ],
            "text/plain": [
              "                              address  bluecar_counter  ...  hour  minute\n",
              "0                 2 Avenue de Suffren                0  ...    11      43\n",
              "1           145 Rue Raymond Losserand                6  ...     7      24\n",
              "2    2 Avenue John Fitzgerald Kennedy                3  ...    20      14\n",
              "3              51 Rue EugÃ¨ne OudinÃ©                3  ...     4      37\n",
              "4  6 avenue de la Porte de Champerret                3  ...    17      23\n",
              "\n",
              "[5 rows x 15 columns]"
            ]
          },
          "metadata": {
            "tags": []
          },
          "execution_count": 16
        }
      ]
    },
    {
      "cell_type": "markdown",
      "metadata": {
        "id": "VEDzKnSmtb2B"
      },
      "source": [
        "# Finding Outliers"
      ]
    },
    {
      "cell_type": "code",
      "metadata": {
        "colab": {
          "base_uri": "https://localhost:8080/",
          "height": 283
        },
        "id": "fKZCCHhxs1C0",
        "outputId": "c8dfc9b3-8caa-4a11-9953-b02317f77ffd"
      },
      "source": [
        "df.boxplot(column =['bluecar_counter', 'utilib_counter', 'utilib_1.4_counter'], grid = False)"
      ],
      "execution_count": 17,
      "outputs": [
        {
          "output_type": "execute_result",
          "data": {
            "text/plain": [
              "<matplotlib.axes._subplots.AxesSubplot at 0x7fcfd053cbd0>"
            ]
          },
          "metadata": {
            "tags": []
          },
          "execution_count": 17
        },
        {
          "output_type": "display_data",
          "data": {
            "image/png": "[encoded data removed]",
            "text/plain": [
              "<Figure size 432x288 with 1 Axes>"
            ]
          },
          "metadata": {
            "tags": [],
            "needs_background": "light"
          }
        }
      ]
    },
    {
      "cell_type": "code",
      "metadata": {
        "colab": {
          "base_uri": "https://localhost:8080/",
          "height": 439
        },
        "id": "CCrPAgai_eaZ",
        "outputId": "9d8c9241-73ee-4300-8fa7-54c4daef1ca6"
      },
      "source": [
        "# we can also use the rule of thumb to calculate the outliers\n",
        "Q1 = df.quantile(0.25)\n",
        "Q3 = df.quantile(0.75)\n",
        "\n",
        "IQR = Q3 - Q1\n",
        "\n",
        "\n",
        "(df < (Q1 - 1.5 * IQR)) |(df > (Q3 + 1.5 * IQR))"
      ],
      "execution_count": 26,
      "outputs": [
        {
          "output_type": "execute_result",
          "data": {
            "text/html": [
              "<div>\n",
              "<style scoped>\n",
              "    .dataframe tbody tr th:only-of-type {\n",
              "        vertical-align: middle;\n",
              "    }\n",
              "\n",
              "    .dataframe tbody tr th {\n",
              "        vertical-align: top;\n",
              "    }\n",
              "\n",
              "    .dataframe thead th {\n",
              "        text-align: right;\n",
              "    }\n",
              "</style>\n",
              "<table border=\"1\" class=\"dataframe\">\n",
              "  <thead>\n",
              "    <tr style=\"text-align: right;\">\n",
              "      <th></th>\n",
              "      <th>Bluecar_Dif</th>\n",
              "      <th>address</th>\n",
              "      <th>bluecar_counter</th>\n",
              "      <th>charging_status</th>\n",
              "      <th>city</th>\n",
              "      <th>day</th>\n",
              "      <th>hour</th>\n",
              "      <th>kind</th>\n",
              "      <th>minute</th>\n",
              "      <th>month</th>\n",
              "      <th>postal_code</th>\n",
              "      <th>public_name</th>\n",
              "      <th>status</th>\n",
              "      <th>utilib_1.4_counter</th>\n",
              "      <th>utilib_counter</th>\n",
              "      <th>year</th>\n",
              "    </tr>\n",
              "  </thead>\n",
              "  <tbody>\n",
              "    <tr>\n",
              "      <th>0</th>\n",
              "      <td>False</td>\n",
              "      <td>False</td>\n",
              "      <td>False</td>\n",
              "      <td>False</td>\n",
              "      <td>False</td>\n",
              "      <td>False</td>\n",
              "      <td>False</td>\n",
              "      <td>False</td>\n",
              "      <td>False</td>\n",
              "      <td>False</td>\n",
              "      <td>False</td>\n",
              "      <td>False</td>\n",
              "      <td>False</td>\n",
              "      <td>False</td>\n",
              "      <td>False</td>\n",
              "      <td>False</td>\n",
              "    </tr>\n",
              "    <tr>\n",
              "      <th>1</th>\n",
              "      <td>False</td>\n",
              "      <td>False</td>\n",
              "      <td>False</td>\n",
              "      <td>False</td>\n",
              "      <td>False</td>\n",
              "      <td>False</td>\n",
              "      <td>False</td>\n",
              "      <td>False</td>\n",
              "      <td>False</td>\n",
              "      <td>False</td>\n",
              "      <td>False</td>\n",
              "      <td>False</td>\n",
              "      <td>False</td>\n",
              "      <td>False</td>\n",
              "      <td>False</td>\n",
              "      <td>False</td>\n",
              "    </tr>\n",
              "    <tr>\n",
              "      <th>2</th>\n",
              "      <td>False</td>\n",
              "      <td>False</td>\n",
              "      <td>False</td>\n",
              "      <td>False</td>\n",
              "      <td>False</td>\n",
              "      <td>False</td>\n",
              "      <td>False</td>\n",
              "      <td>False</td>\n",
              "      <td>False</td>\n",
              "      <td>False</td>\n",
              "      <td>False</td>\n",
              "      <td>False</td>\n",
              "      <td>False</td>\n",
              "      <td>True</td>\n",
              "      <td>False</td>\n",
              "      <td>False</td>\n",
              "    </tr>\n",
              "    <tr>\n",
              "      <th>3</th>\n",
              "      <td>False</td>\n",
              "      <td>False</td>\n",
              "      <td>False</td>\n",
              "      <td>False</td>\n",
              "      <td>False</td>\n",
              "      <td>False</td>\n",
              "      <td>False</td>\n",
              "      <td>False</td>\n",
              "      <td>False</td>\n",
              "      <td>False</td>\n",
              "      <td>False</td>\n",
              "      <td>False</td>\n",
              "      <td>False</td>\n",
              "      <td>False</td>\n",
              "      <td>True</td>\n",
              "      <td>False</td>\n",
              "    </tr>\n",
              "    <tr>\n",
              "      <th>4</th>\n",
              "      <td>False</td>\n",
              "      <td>False</td>\n",
              "      <td>False</td>\n",
              "      <td>False</td>\n",
              "      <td>False</td>\n",
              "      <td>False</td>\n",
              "      <td>False</td>\n",
              "      <td>False</td>\n",
              "      <td>False</td>\n",
              "      <td>False</td>\n",
              "      <td>False</td>\n",
              "      <td>False</td>\n",
              "      <td>False</td>\n",
              "      <td>False</td>\n",
              "      <td>False</td>\n",
              "      <td>False</td>\n",
              "    </tr>\n",
              "    <tr>\n",
              "      <th>...</th>\n",
              "      <td>...</td>\n",
              "      <td>...</td>\n",
              "      <td>...</td>\n",
              "      <td>...</td>\n",
              "      <td>...</td>\n",
              "      <td>...</td>\n",
              "      <td>...</td>\n",
              "      <td>...</td>\n",
              "      <td>...</td>\n",
              "      <td>...</td>\n",
              "      <td>...</td>\n",
              "      <td>...</td>\n",
              "      <td>...</td>\n",
              "      <td>...</td>\n",
              "      <td>...</td>\n",
              "      <td>...</td>\n",
              "    </tr>\n",
              "    <tr>\n",
              "      <th>4995</th>\n",
              "      <td>False</td>\n",
              "      <td>False</td>\n",
              "      <td>False</td>\n",
              "      <td>False</td>\n",
              "      <td>False</td>\n",
              "      <td>False</td>\n",
              "      <td>False</td>\n",
              "      <td>False</td>\n",
              "      <td>False</td>\n",
              "      <td>False</td>\n",
              "      <td>False</td>\n",
              "      <td>False</td>\n",
              "      <td>False</td>\n",
              "      <td>False</td>\n",
              "      <td>False</td>\n",
              "      <td>False</td>\n",
              "    </tr>\n",
              "    <tr>\n",
              "      <th>4996</th>\n",
              "      <td>False</td>\n",
              "      <td>False</td>\n",
              "      <td>False</td>\n",
              "      <td>False</td>\n",
              "      <td>False</td>\n",
              "      <td>False</td>\n",
              "      <td>False</td>\n",
              "      <td>False</td>\n",
              "      <td>False</td>\n",
              "      <td>False</td>\n",
              "      <td>False</td>\n",
              "      <td>False</td>\n",
              "      <td>False</td>\n",
              "      <td>False</td>\n",
              "      <td>False</td>\n",
              "      <td>False</td>\n",
              "    </tr>\n",
              "    <tr>\n",
              "      <th>4997</th>\n",
              "      <td>False</td>\n",
              "      <td>False</td>\n",
              "      <td>False</td>\n",
              "      <td>False</td>\n",
              "      <td>False</td>\n",
              "      <td>False</td>\n",
              "      <td>False</td>\n",
              "      <td>False</td>\n",
              "      <td>False</td>\n",
              "      <td>False</td>\n",
              "      <td>False</td>\n",
              "      <td>False</td>\n",
              "      <td>False</td>\n",
              "      <td>False</td>\n",
              "      <td>False</td>\n",
              "      <td>False</td>\n",
              "    </tr>\n",
              "    <tr>\n",
              "      <th>4998</th>\n",
              "      <td>False</td>\n",
              "      <td>False</td>\n",
              "      <td>False</td>\n",
              "      <td>False</td>\n",
              "      <td>False</td>\n",
              "      <td>False</td>\n",
              "      <td>False</td>\n",
              "      <td>False</td>\n",
              "      <td>False</td>\n",
              "      <td>False</td>\n",
              "      <td>False</td>\n",
              "      <td>False</td>\n",
              "      <td>False</td>\n",
              "      <td>False</td>\n",
              "      <td>False</td>\n",
              "      <td>False</td>\n",
              "    </tr>\n",
              "    <tr>\n",
              "      <th>4999</th>\n",
              "      <td>False</td>\n",
              "      <td>False</td>\n",
              "      <td>False</td>\n",
              "      <td>False</td>\n",
              "      <td>False</td>\n",
              "      <td>False</td>\n",
              "      <td>False</td>\n",
              "      <td>False</td>\n",
              "      <td>False</td>\n",
              "      <td>False</td>\n",
              "      <td>False</td>\n",
              "      <td>False</td>\n",
              "      <td>False</td>\n",
              "      <td>False</td>\n",
              "      <td>False</td>\n",
              "      <td>False</td>\n",
              "    </tr>\n",
              "  </tbody>\n",
              "</table>\n",
              "<p>5000 rows × 16 columns</p>\n",
              "</div>"
            ],
            "text/plain": [
              "      Bluecar_Dif  address  ...  utilib_counter   year\n",
              "0           False    False  ...           False  False\n",
              "1           False    False  ...           False  False\n",
              "2           False    False  ...           False  False\n",
              "3           False    False  ...            True  False\n",
              "4           False    False  ...           False  False\n",
              "...           ...      ...  ...             ...    ...\n",
              "4995        False    False  ...           False  False\n",
              "4996        False    False  ...           False  False\n",
              "4997        False    False  ...           False  False\n",
              "4998        False    False  ...           False  False\n",
              "4999        False    False  ...           False  False\n",
              "\n",
              "[5000 rows x 16 columns]"
            ]
          },
          "metadata": {
            "tags": []
          },
          "execution_count": 26
        }
      ]
    },
    {
      "cell_type": "markdown",
      "metadata": {
        "id": "whWUEW3xu_kT"
      },
      "source": [
        "# **Identify the most popular hour of the day for picking up a shared electric car (Bluecar) in the city of Paris over the month of April 2018.**"
      ]
    },
    {
      "cell_type": "code",
      "metadata": {
        "colab": {
          "base_uri": "https://localhost:8080/",
          "height": 711
        },
        "id": "C2R7tmRUuWW4",
        "outputId": "7bbcbc21-de6f-425f-8428-eb1a31e3d1e4"
      },
      "source": [
        "#let's make the city == Paris\n",
        "df_paris = df[df.city == 'Paris']\n",
        "df_paris"
      ],
      "execution_count": 18,
      "outputs": [
        {
          "output_type": "execute_result",
          "data": {
            "text/html": [
              "<div>\n",
              "<style scoped>\n",
              "    .dataframe tbody tr th:only-of-type {\n",
              "        vertical-align: middle;\n",
              "    }\n",
              "\n",
              "    .dataframe tbody tr th {\n",
              "        vertical-align: top;\n",
              "    }\n",
              "\n",
              "    .dataframe thead th {\n",
              "        text-align: right;\n",
              "    }\n",
              "</style>\n",
              "<table border=\"1\" class=\"dataframe\">\n",
              "  <thead>\n",
              "    <tr style=\"text-align: right;\">\n",
              "      <th></th>\n",
              "      <th>address</th>\n",
              "      <th>bluecar_counter</th>\n",
              "      <th>utilib_counter</th>\n",
              "      <th>utilib_1.4_counter</th>\n",
              "      <th>charging_status</th>\n",
              "      <th>city</th>\n",
              "      <th>kind</th>\n",
              "      <th>postal_code</th>\n",
              "      <th>public_name</th>\n",
              "      <th>status</th>\n",
              "      <th>year</th>\n",
              "      <th>month</th>\n",
              "      <th>day</th>\n",
              "      <th>hour</th>\n",
              "      <th>minute</th>\n",
              "    </tr>\n",
              "  </thead>\n",
              "  <tbody>\n",
              "    <tr>\n",
              "      <th>0</th>\n",
              "      <td>2 Avenue de Suffren</td>\n",
              "      <td>0</td>\n",
              "      <td>0</td>\n",
              "      <td>0</td>\n",
              "      <td>nonexistent</td>\n",
              "      <td>Paris</td>\n",
              "      <td>STATION</td>\n",
              "      <td>75015</td>\n",
              "      <td>Paris/Suffren/2</td>\n",
              "      <td>ok</td>\n",
              "      <td>2018</td>\n",
              "      <td>4</td>\n",
              "      <td>8</td>\n",
              "      <td>11</td>\n",
              "      <td>43</td>\n",
              "    </tr>\n",
              "    <tr>\n",
              "      <th>1</th>\n",
              "      <td>145 Rue Raymond Losserand</td>\n",
              "      <td>6</td>\n",
              "      <td>0</td>\n",
              "      <td>0</td>\n",
              "      <td>operational</td>\n",
              "      <td>Paris</td>\n",
              "      <td>STATION</td>\n",
              "      <td>75014</td>\n",
              "      <td>Paris/Raymond Losserand/145</td>\n",
              "      <td>ok</td>\n",
              "      <td>2018</td>\n",
              "      <td>4</td>\n",
              "      <td>6</td>\n",
              "      <td>7</td>\n",
              "      <td>24</td>\n",
              "    </tr>\n",
              "    <tr>\n",
              "      <th>3</th>\n",
              "      <td>51 Rue EugÃ¨ne OudinÃ©</td>\n",
              "      <td>3</td>\n",
              "      <td>1</td>\n",
              "      <td>0</td>\n",
              "      <td>operational</td>\n",
              "      <td>Paris</td>\n",
              "      <td>STATION</td>\n",
              "      <td>75013</td>\n",
              "      <td>Paris/EugÃ¨ne OudinÃ©/51</td>\n",
              "      <td>ok</td>\n",
              "      <td>2018</td>\n",
              "      <td>4</td>\n",
              "      <td>4</td>\n",
              "      <td>4</td>\n",
              "      <td>37</td>\n",
              "    </tr>\n",
              "    <tr>\n",
              "      <th>4</th>\n",
              "      <td>6 avenue de la Porte de Champerret</td>\n",
              "      <td>3</td>\n",
              "      <td>0</td>\n",
              "      <td>0</td>\n",
              "      <td>nonexistent</td>\n",
              "      <td>Paris</td>\n",
              "      <td>PARKING</td>\n",
              "      <td>75017</td>\n",
              "      <td>Paris/Porte de Champerret/6</td>\n",
              "      <td>ok</td>\n",
              "      <td>2018</td>\n",
              "      <td>4</td>\n",
              "      <td>8</td>\n",
              "      <td>17</td>\n",
              "      <td>23</td>\n",
              "    </tr>\n",
              "    <tr>\n",
              "      <th>5</th>\n",
              "      <td>8 Boulevard Voltaire</td>\n",
              "      <td>0</td>\n",
              "      <td>0</td>\n",
              "      <td>0</td>\n",
              "      <td>nonexistent</td>\n",
              "      <td>Paris</td>\n",
              "      <td>STATION</td>\n",
              "      <td>75011</td>\n",
              "      <td>Paris/Voltaire/8</td>\n",
              "      <td>ok</td>\n",
              "      <td>2018</td>\n",
              "      <td>4</td>\n",
              "      <td>6</td>\n",
              "      <td>7</td>\n",
              "      <td>2</td>\n",
              "    </tr>\n",
              "    <tr>\n",
              "      <th>...</th>\n",
              "      <td>...</td>\n",
              "      <td>...</td>\n",
              "      <td>...</td>\n",
              "      <td>...</td>\n",
              "      <td>...</td>\n",
              "      <td>...</td>\n",
              "      <td>...</td>\n",
              "      <td>...</td>\n",
              "      <td>...</td>\n",
              "      <td>...</td>\n",
              "      <td>...</td>\n",
              "      <td>...</td>\n",
              "      <td>...</td>\n",
              "      <td>...</td>\n",
              "      <td>...</td>\n",
              "    </tr>\n",
              "    <tr>\n",
              "      <th>4992</th>\n",
              "      <td>3 avenue d'Ivry</td>\n",
              "      <td>0</td>\n",
              "      <td>0</td>\n",
              "      <td>0</td>\n",
              "      <td>operational</td>\n",
              "      <td>Paris</td>\n",
              "      <td>STATION</td>\n",
              "      <td>75013</td>\n",
              "      <td>Paris/Ivry/3</td>\n",
              "      <td>ok</td>\n",
              "      <td>2018</td>\n",
              "      <td>4</td>\n",
              "      <td>9</td>\n",
              "      <td>23</td>\n",
              "      <td>1</td>\n",
              "    </tr>\n",
              "    <tr>\n",
              "      <th>4994</th>\n",
              "      <td>15 rue de Rocroy</td>\n",
              "      <td>0</td>\n",
              "      <td>0</td>\n",
              "      <td>0</td>\n",
              "      <td>operational</td>\n",
              "      <td>Paris</td>\n",
              "      <td>STATION</td>\n",
              "      <td>75010</td>\n",
              "      <td>Paris/Rocroy/15</td>\n",
              "      <td>ok</td>\n",
              "      <td>2018</td>\n",
              "      <td>4</td>\n",
              "      <td>1</td>\n",
              "      <td>20</td>\n",
              "      <td>49</td>\n",
              "    </tr>\n",
              "    <tr>\n",
              "      <th>4996</th>\n",
              "      <td>37 rue de Dantzig</td>\n",
              "      <td>4</td>\n",
              "      <td>0</td>\n",
              "      <td>0</td>\n",
              "      <td>operational</td>\n",
              "      <td>Paris</td>\n",
              "      <td>STATION</td>\n",
              "      <td>75015</td>\n",
              "      <td>Paris/Dantzig/37</td>\n",
              "      <td>ok</td>\n",
              "      <td>2018</td>\n",
              "      <td>4</td>\n",
              "      <td>4</td>\n",
              "      <td>16</td>\n",
              "      <td>56</td>\n",
              "    </tr>\n",
              "    <tr>\n",
              "      <th>4997</th>\n",
              "      <td>142 rue du Bac</td>\n",
              "      <td>1</td>\n",
              "      <td>0</td>\n",
              "      <td>0</td>\n",
              "      <td>operational</td>\n",
              "      <td>Paris</td>\n",
              "      <td>STATION</td>\n",
              "      <td>75007</td>\n",
              "      <td>Paris/Bac/142</td>\n",
              "      <td>ok</td>\n",
              "      <td>2018</td>\n",
              "      <td>4</td>\n",
              "      <td>1</td>\n",
              "      <td>7</td>\n",
              "      <td>1</td>\n",
              "    </tr>\n",
              "    <tr>\n",
              "      <th>4999</th>\n",
              "      <td>5 Rue Henry Brisson</td>\n",
              "      <td>4</td>\n",
              "      <td>0</td>\n",
              "      <td>0</td>\n",
              "      <td>operational</td>\n",
              "      <td>Paris</td>\n",
              "      <td>STATION</td>\n",
              "      <td>75018</td>\n",
              "      <td>Paris/Henry Brisson/5</td>\n",
              "      <td>ok</td>\n",
              "      <td>2018</td>\n",
              "      <td>4</td>\n",
              "      <td>8</td>\n",
              "      <td>10</td>\n",
              "      <td>2</td>\n",
              "    </tr>\n",
              "  </tbody>\n",
              "</table>\n",
              "<p>2816 rows × 15 columns</p>\n",
              "</div>"
            ],
            "text/plain": [
              "                                 address  bluecar_counter  ...  hour  minute\n",
              "0                    2 Avenue de Suffren                0  ...    11      43\n",
              "1              145 Rue Raymond Losserand                6  ...     7      24\n",
              "3                 51 Rue EugÃ¨ne OudinÃ©                3  ...     4      37\n",
              "4     6 avenue de la Porte de Champerret                3  ...    17      23\n",
              "5                   8 Boulevard Voltaire                0  ...     7       2\n",
              "...                                  ...              ...  ...   ...     ...\n",
              "4992                     3 avenue d'Ivry                0  ...    23       1\n",
              "4994                    15 rue de Rocroy                0  ...    20      49\n",
              "4996                   37 rue de Dantzig                4  ...    16      56\n",
              "4997                      142 rue du Bac                1  ...     7       1\n",
              "4999                 5 Rue Henry Brisson                4  ...    10       2\n",
              "\n",
              "[2816 rows x 15 columns]"
            ]
          },
          "metadata": {
            "tags": []
          },
          "execution_count": 18
        }
      ]
    },
    {
      "cell_type": "code",
      "metadata": {
        "colab": {
          "base_uri": "https://localhost:8080/",
          "height": 411
        },
        "id": "bixLTbxgyVNr",
        "outputId": "46a83f02-70a7-4834-f13d-a3a43773887b"
      },
      "source": [
        "# Creating a new column where we find the difference in the number of bluecars at the station/counter\n",
        "\n",
        "df['Bluecar_Dif'] = df['bluecar_counter'].diff()\n",
        "df.head()"
      ],
      "execution_count": 19,
      "outputs": [
        {
          "output_type": "execute_result",
          "data": {
            "text/html": [
              "<div>\n",
              "<style scoped>\n",
              "    .dataframe tbody tr th:only-of-type {\n",
              "        vertical-align: middle;\n",
              "    }\n",
              "\n",
              "    .dataframe tbody tr th {\n",
              "        vertical-align: top;\n",
              "    }\n",
              "\n",
              "    .dataframe thead th {\n",
              "        text-align: right;\n",
              "    }\n",
              "</style>\n",
              "<table border=\"1\" class=\"dataframe\">\n",
              "  <thead>\n",
              "    <tr style=\"text-align: right;\">\n",
              "      <th></th>\n",
              "      <th>address</th>\n",
              "      <th>bluecar_counter</th>\n",
              "      <th>utilib_counter</th>\n",
              "      <th>utilib_1.4_counter</th>\n",
              "      <th>charging_status</th>\n",
              "      <th>city</th>\n",
              "      <th>kind</th>\n",
              "      <th>postal_code</th>\n",
              "      <th>public_name</th>\n",
              "      <th>status</th>\n",
              "      <th>year</th>\n",
              "      <th>month</th>\n",
              "      <th>day</th>\n",
              "      <th>hour</th>\n",
              "      <th>minute</th>\n",
              "      <th>Bluecar_Dif</th>\n",
              "    </tr>\n",
              "  </thead>\n",
              "  <tbody>\n",
              "    <tr>\n",
              "      <th>0</th>\n",
              "      <td>2 Avenue de Suffren</td>\n",
              "      <td>0</td>\n",
              "      <td>0</td>\n",
              "      <td>0</td>\n",
              "      <td>nonexistent</td>\n",
              "      <td>Paris</td>\n",
              "      <td>STATION</td>\n",
              "      <td>75015</td>\n",
              "      <td>Paris/Suffren/2</td>\n",
              "      <td>ok</td>\n",
              "      <td>2018</td>\n",
              "      <td>4</td>\n",
              "      <td>8</td>\n",
              "      <td>11</td>\n",
              "      <td>43</td>\n",
              "      <td>NaN</td>\n",
              "    </tr>\n",
              "    <tr>\n",
              "      <th>1</th>\n",
              "      <td>145 Rue Raymond Losserand</td>\n",
              "      <td>6</td>\n",
              "      <td>0</td>\n",
              "      <td>0</td>\n",
              "      <td>operational</td>\n",
              "      <td>Paris</td>\n",
              "      <td>STATION</td>\n",
              "      <td>75014</td>\n",
              "      <td>Paris/Raymond Losserand/145</td>\n",
              "      <td>ok</td>\n",
              "      <td>2018</td>\n",
              "      <td>4</td>\n",
              "      <td>6</td>\n",
              "      <td>7</td>\n",
              "      <td>24</td>\n",
              "      <td>6.0</td>\n",
              "    </tr>\n",
              "    <tr>\n",
              "      <th>2</th>\n",
              "      <td>2 Avenue John Fitzgerald Kennedy</td>\n",
              "      <td>3</td>\n",
              "      <td>0</td>\n",
              "      <td>2</td>\n",
              "      <td>operational</td>\n",
              "      <td>Le Bourget</td>\n",
              "      <td>STATION</td>\n",
              "      <td>93350</td>\n",
              "      <td>Le Bourget/John Fitzgerald Kennedy/2</td>\n",
              "      <td>ok</td>\n",
              "      <td>2018</td>\n",
              "      <td>4</td>\n",
              "      <td>3</td>\n",
              "      <td>20</td>\n",
              "      <td>14</td>\n",
              "      <td>-3.0</td>\n",
              "    </tr>\n",
              "    <tr>\n",
              "      <th>3</th>\n",
              "      <td>51 Rue EugÃ¨ne OudinÃ©</td>\n",
              "      <td>3</td>\n",
              "      <td>1</td>\n",
              "      <td>0</td>\n",
              "      <td>operational</td>\n",
              "      <td>Paris</td>\n",
              "      <td>STATION</td>\n",
              "      <td>75013</td>\n",
              "      <td>Paris/EugÃ¨ne OudinÃ©/51</td>\n",
              "      <td>ok</td>\n",
              "      <td>2018</td>\n",
              "      <td>4</td>\n",
              "      <td>4</td>\n",
              "      <td>4</td>\n",
              "      <td>37</td>\n",
              "      <td>0.0</td>\n",
              "    </tr>\n",
              "    <tr>\n",
              "      <th>4</th>\n",
              "      <td>6 avenue de la Porte de Champerret</td>\n",
              "      <td>3</td>\n",
              "      <td>0</td>\n",
              "      <td>0</td>\n",
              "      <td>nonexistent</td>\n",
              "      <td>Paris</td>\n",
              "      <td>PARKING</td>\n",
              "      <td>75017</td>\n",
              "      <td>Paris/Porte de Champerret/6</td>\n",
              "      <td>ok</td>\n",
              "      <td>2018</td>\n",
              "      <td>4</td>\n",
              "      <td>8</td>\n",
              "      <td>17</td>\n",
              "      <td>23</td>\n",
              "      <td>0.0</td>\n",
              "    </tr>\n",
              "  </tbody>\n",
              "</table>\n",
              "</div>"
            ],
            "text/plain": [
              "                              address  bluecar_counter  ...  minute  Bluecar_Dif\n",
              "0                 2 Avenue de Suffren                0  ...      43          NaN\n",
              "1           145 Rue Raymond Losserand                6  ...      24          6.0\n",
              "2    2 Avenue John Fitzgerald Kennedy                3  ...      14         -3.0\n",
              "3              51 Rue EugÃ¨ne OudinÃ©                3  ...      37          0.0\n",
              "4  6 avenue de la Porte de Champerret                3  ...      23          0.0\n",
              "\n",
              "[5 rows x 16 columns]"
            ]
          },
          "metadata": {
            "tags": []
          },
          "execution_count": 19
        }
      ]
    },
    {
      "cell_type": "code",
      "metadata": {
        "colab": {
          "base_uri": "https://localhost:8080/"
        },
        "id": "JVEaZZu9vita",
        "outputId": "0f7463da-90bf-4041-c1e9-59422539587d"
      },
      "source": [
        "# most popular hour\n",
        "\n",
        "df_most_hour = df[df['Bluecar_Dif'] < 0].groupby('hour')['hour'].count().sort_values(ascending= False)\n",
        "df_most_hour.max\n",
        "\n"
      ],
      "execution_count": 33,
      "outputs": [
        {
          "output_type": "execute_result",
          "data": {
            "text/plain": [
              "hour\n",
              "21    113\n",
              "16    107\n",
              "19    104\n",
              "9      97\n",
              "13     95\n",
              "14     94\n",
              "3      93\n",
              "20     90\n",
              "7      89\n",
              "18     89\n",
              "22     89\n",
              "23     88\n",
              "5      88\n",
              "8      87\n",
              "15     87\n",
              "17     85\n",
              "4      82\n",
              "0      78\n",
              "12     78\n",
              "6      75\n",
              "11     73\n",
              "2      72\n",
              "1      72\n",
              "10     71\n",
              "Name: hour, dtype: int64"
            ]
          },
          "metadata": {
            "tags": []
          },
          "execution_count": 33
        }
      ]
    },
    {
      "cell_type": "markdown",
      "metadata": {
        "id": "dSX7QHiy0YRw"
      },
      "source": [
        "# **The most popular hour for returning cars**"
      ]
    },
    {
      "cell_type": "code",
      "metadata": {
        "colab": {
          "base_uri": "https://localhost:8080/"
        },
        "id": "2A17pVsX0dnw",
        "outputId": "1ad59c4b-37ea-4db2-8e07-ec35fdf8a5a5"
      },
      "source": [
        "# What is the most popular hour for returning cars?\n",
        "df_returning = df[df['Bluecar_Dif'] > 0].groupby('hour')['hour'].count().sort_values(ascending= False)\n",
        "df_returning"
      ],
      "execution_count": 21,
      "outputs": [
        {
          "output_type": "execute_result",
          "data": {
            "text/plain": [
              "hour\n",
              "6     101\n",
              "11     98\n",
              "2      98\n",
              "3      98\n",
              "12     95\n",
              "18     95\n",
              "5      92\n",
              "8      89\n",
              "10     89\n",
              "7      87\n",
              "0      87\n",
              "22     86\n",
              "13     84\n",
              "9      84\n",
              "21     84\n",
              "1      84\n",
              "15     82\n",
              "4      80\n",
              "23     80\n",
              "20     77\n",
              "17     76\n",
              "16     74\n",
              "19     74\n",
              "14     69\n",
              "Name: hour, dtype: int64"
            ]
          },
          "metadata": {
            "tags": []
          },
          "execution_count": 21
        }
      ]
    },
    {
      "cell_type": "markdown",
      "metadata": {
        "id": "T67B9Jtt1trI"
      },
      "source": [
        "# **What station is the most popular?**"
      ]
    },
    {
      "cell_type": "code",
      "metadata": {
        "colab": {
          "base_uri": "https://localhost:8080/"
        },
        "id": "ifu2QXJ71u_E",
        "outputId": "1f0dc22c-1f3e-49a2-e71c-e3e49c2e7b00"
      },
      "source": [
        "# What station is the most popular\n",
        "# Overall?\n",
        "df_pop_station = df[(df['kind'] == 'STATION') & (df['charging_status'] == 'operational')].groupby('public_name')['public_name'].count().sort_values(ascending= False)\n",
        "df_pop_station"
      ],
      "execution_count": 52,
      "outputs": [
        {
          "output_type": "execute_result",
          "data": {
            "text/plain": [
              "public_name\n",
              "Paris/Porte de Montrouge/8      13\n",
              "Paris/Philippe Auguste/126      11\n",
              "Paris/Voltaire/182              11\n",
              "Paris/Courcelles/69             11\n",
              "Paris/Darcet/28                 10\n",
              "                                ..\n",
              "Paris/PÃ©guy/2                   1\n",
              "Paris/Bobillot/16                1\n",
              "Paris/Broussais/32               1\n",
              "Paris/Pirogues de Bercy/44       1\n",
              "Yerres/Raymond PoincarÃ©/200     1\n",
              "Name: public_name, Length: 403, dtype: int64"
            ]
          },
          "metadata": {
            "tags": []
          },
          "execution_count": 52
        }
      ]
    },
    {
      "cell_type": "markdown",
      "metadata": {
        "id": "8DZI95Fj4MzB"
      },
      "source": [
        "**At the most popular picking hour?**"
      ]
    },
    {
      "cell_type": "code",
      "metadata": {
        "colab": {
          "base_uri": "https://localhost:8080/"
        },
        "id": "zp90TFr24R-5",
        "outputId": "3f0f2214-e101-4bff-a8e3-43b41cae5277"
      },
      "source": [
        "# most popular picking hour\n",
        "\n",
        "\n",
        "df[(df['kind'] == 'STATION') & (df['charging_status'] == 'operational')].groupby('hour')['public_name'].count().sort_values(ascending= False).head(1)"
      ],
      "execution_count": 22,
      "outputs": [
        {
          "output_type": "execute_result",
          "data": {
            "text/plain": [
              "hour\n",
              "21    96\n",
              "Name: public_name, dtype: int64"
            ]
          },
          "metadata": {
            "tags": []
          },
          "execution_count": 22
        }
      ]
    },
    {
      "cell_type": "markdown",
      "metadata": {
        "id": "MZxJuG-j0Mgw"
      },
      "source": [
        "**What postal code is the most popular for picking up Blue cars? Does the most popular station belong to that postal code?**\n",
        "**Overall?** "
      ]
    },
    {
      "cell_type": "code",
      "metadata": {
        "colab": {
          "base_uri": "https://localhost:8080/"
        },
        "id": "LTFMw2Nw7wLE",
        "outputId": "87d6c106-8ba8-4af0-8ee0-dfc5962b5bc0"
      },
      "source": [
        "df[(df['kind'] == 'STATION') & (df['bluecar_counter'] == 0)].groupby('postal_code')['postal_code'].value_counts().sort_values(ascending= False).head(1)"
      ],
      "execution_count": 23,
      "outputs": [
        {
          "output_type": "execute_result",
          "data": {
            "text/plain": [
              "postal_code  postal_code\n",
              "75008        75008          89\n",
              "Name: postal_code, dtype: int64"
            ]
          },
          "metadata": {
            "tags": []
          },
          "execution_count": 23
        }
      ]
    },
    {
      "cell_type": "code",
      "metadata": {
        "colab": {
          "base_uri": "https://localhost:8080/"
        },
        "id": "WzPN86U29Yhc",
        "outputId": "89bce3a4-f11d-48ec-f936-d5496f7db6e8"
      },
      "source": [
        "# At the most popular picking hour?\n",
        "df[(df['kind'] == 'STATION') & (df['bluecar_counter'] == 0)].groupby('hour')['postal_code'].count().sort_values(ascending= False).head(1)"
      ],
      "execution_count": 24,
      "outputs": [
        {
          "output_type": "execute_result",
          "data": {
            "text/plain": [
              "hour\n",
              "21    63\n",
              "Name: postal_code, dtype: int64"
            ]
          },
          "metadata": {
            "tags": []
          },
          "execution_count": 24
        }
      ]
    },
    {
      "cell_type": "markdown",
      "metadata": {
        "id": "-iKWNORG-qyi"
      },
      "source": [
        "# Do the results change if you consider Utilib and Utilib 1.4 instead of Blue cars? "
      ]
    },
    {
      "cell_type": "code",
      "metadata": {
        "colab": {
          "base_uri": "https://localhost:8080/",
          "height": 496
        },
        "id": "1ZF299tn-t8a",
        "outputId": "408f500d-5a86-4c73-c746-916102bdd1ab"
      },
      "source": [
        "df_paris_2 = df[df.city == 'Paris']\n",
        "df_paris_2\n",
        "# Creating a new column where we find the difference in the number of bluecars at the station/counter\n",
        "\n",
        "df_paris_2['utilib_Dif'] = df['utilib_1.4_counter'].diff()\n",
        "df_paris_2.head()"
      ],
      "execution_count": 40,
      "outputs": [
        {
          "output_type": "stream",
          "text": [
            "/usr/local/lib/python3.7/dist-packages/ipykernel_launcher.py:5: SettingWithCopyWarning: \n",
            "A value is trying to be set on a copy of a slice from a DataFrame.\n",
            "Try using .loc[row_indexer,col_indexer] = value instead\n",
            "\n",
            "See the caveats in the documentation: https://pandas.pydata.org/pandas-docs/stable/user_guide/indexing.html#returning-a-view-versus-a-copy\n",
            "  \"\"\"\n"
          ],
          "name": "stderr"
        },
        {
          "output_type": "execute_result",
          "data": {
            "text/html": [
              "<div>\n",
              "<style scoped>\n",
              "    .dataframe tbody tr th:only-of-type {\n",
              "        vertical-align: middle;\n",
              "    }\n",
              "\n",
              "    .dataframe tbody tr th {\n",
              "        vertical-align: top;\n",
              "    }\n",
              "\n",
              "    .dataframe thead th {\n",
              "        text-align: right;\n",
              "    }\n",
              "</style>\n",
              "<table border=\"1\" class=\"dataframe\">\n",
              "  <thead>\n",
              "    <tr style=\"text-align: right;\">\n",
              "      <th></th>\n",
              "      <th>address</th>\n",
              "      <th>bluecar_counter</th>\n",
              "      <th>utilib_counter</th>\n",
              "      <th>utilib_1.4_counter</th>\n",
              "      <th>charging_status</th>\n",
              "      <th>city</th>\n",
              "      <th>kind</th>\n",
              "      <th>postal_code</th>\n",
              "      <th>public_name</th>\n",
              "      <th>status</th>\n",
              "      <th>year</th>\n",
              "      <th>month</th>\n",
              "      <th>day</th>\n",
              "      <th>hour</th>\n",
              "      <th>minute</th>\n",
              "      <th>Bluecar_Dif</th>\n",
              "      <th>utilib_Dif</th>\n",
              "    </tr>\n",
              "  </thead>\n",
              "  <tbody>\n",
              "    <tr>\n",
              "      <th>0</th>\n",
              "      <td>2 Avenue de Suffren</td>\n",
              "      <td>0</td>\n",
              "      <td>0</td>\n",
              "      <td>0</td>\n",
              "      <td>nonexistent</td>\n",
              "      <td>Paris</td>\n",
              "      <td>STATION</td>\n",
              "      <td>75015</td>\n",
              "      <td>Paris/Suffren/2</td>\n",
              "      <td>ok</td>\n",
              "      <td>2018</td>\n",
              "      <td>4</td>\n",
              "      <td>8</td>\n",
              "      <td>11</td>\n",
              "      <td>43</td>\n",
              "      <td>NaN</td>\n",
              "      <td>NaN</td>\n",
              "    </tr>\n",
              "    <tr>\n",
              "      <th>1</th>\n",
              "      <td>145 Rue Raymond Losserand</td>\n",
              "      <td>6</td>\n",
              "      <td>0</td>\n",
              "      <td>0</td>\n",
              "      <td>operational</td>\n",
              "      <td>Paris</td>\n",
              "      <td>STATION</td>\n",
              "      <td>75014</td>\n",
              "      <td>Paris/Raymond Losserand/145</td>\n",
              "      <td>ok</td>\n",
              "      <td>2018</td>\n",
              "      <td>4</td>\n",
              "      <td>6</td>\n",
              "      <td>7</td>\n",
              "      <td>24</td>\n",
              "      <td>6.0</td>\n",
              "      <td>0.0</td>\n",
              "    </tr>\n",
              "    <tr>\n",
              "      <th>3</th>\n",
              "      <td>51 Rue EugÃ¨ne OudinÃ©</td>\n",
              "      <td>3</td>\n",
              "      <td>1</td>\n",
              "      <td>0</td>\n",
              "      <td>operational</td>\n",
              "      <td>Paris</td>\n",
              "      <td>STATION</td>\n",
              "      <td>75013</td>\n",
              "      <td>Paris/EugÃ¨ne OudinÃ©/51</td>\n",
              "      <td>ok</td>\n",
              "      <td>2018</td>\n",
              "      <td>4</td>\n",
              "      <td>4</td>\n",
              "      <td>4</td>\n",
              "      <td>37</td>\n",
              "      <td>0.0</td>\n",
              "      <td>-2.0</td>\n",
              "    </tr>\n",
              "    <tr>\n",
              "      <th>4</th>\n",
              "      <td>6 avenue de la Porte de Champerret</td>\n",
              "      <td>3</td>\n",
              "      <td>0</td>\n",
              "      <td>0</td>\n",
              "      <td>nonexistent</td>\n",
              "      <td>Paris</td>\n",
              "      <td>PARKING</td>\n",
              "      <td>75017</td>\n",
              "      <td>Paris/Porte de Champerret/6</td>\n",
              "      <td>ok</td>\n",
              "      <td>2018</td>\n",
              "      <td>4</td>\n",
              "      <td>8</td>\n",
              "      <td>17</td>\n",
              "      <td>23</td>\n",
              "      <td>0.0</td>\n",
              "      <td>0.0</td>\n",
              "    </tr>\n",
              "    <tr>\n",
              "      <th>5</th>\n",
              "      <td>8 Boulevard Voltaire</td>\n",
              "      <td>0</td>\n",
              "      <td>0</td>\n",
              "      <td>0</td>\n",
              "      <td>nonexistent</td>\n",
              "      <td>Paris</td>\n",
              "      <td>STATION</td>\n",
              "      <td>75011</td>\n",
              "      <td>Paris/Voltaire/8</td>\n",
              "      <td>ok</td>\n",
              "      <td>2018</td>\n",
              "      <td>4</td>\n",
              "      <td>6</td>\n",
              "      <td>7</td>\n",
              "      <td>2</td>\n",
              "      <td>-3.0</td>\n",
              "      <td>0.0</td>\n",
              "    </tr>\n",
              "  </tbody>\n",
              "</table>\n",
              "</div>"
            ],
            "text/plain": [
              "                              address  bluecar_counter  ...  Bluecar_Dif  utilib_Dif\n",
              "0                 2 Avenue de Suffren                0  ...          NaN         NaN\n",
              "1           145 Rue Raymond Losserand                6  ...          6.0         0.0\n",
              "3              51 Rue EugÃ¨ne OudinÃ©                3  ...          0.0        -2.0\n",
              "4  6 avenue de la Porte de Champerret                3  ...          0.0         0.0\n",
              "5                8 Boulevard Voltaire                0  ...         -3.0         0.0\n",
              "\n",
              "[5 rows x 17 columns]"
            ]
          },
          "metadata": {
            "tags": []
          },
          "execution_count": 40
        }
      ]
    },
    {
      "cell_type": "code",
      "metadata": {
        "colab": {
          "base_uri": "https://localhost:8080/"
        },
        "id": "GmHmUNi4BQnA",
        "outputId": "39155844-3e61-441f-d7b4-4068a08713fe"
      },
      "source": [
        "# the most popular hour of the day for picking up a shared electric car (Utilib 1.4 Counter)\n",
        "df__paris_2_most_hour = df_paris_2[df_paris_2['utilib_Dif'] < 0].groupby('hour')['hour'].count().sort_values(ascending= False)\n",
        "df__paris_2_most_hour.max"
      ],
      "execution_count": 42,
      "outputs": [
        {
          "output_type": "execute_result",
          "data": {
            "text/plain": [
              "<bound method Series.max of hour\n",
              "3     20\n",
              "4     17\n",
              "0     16\n",
              "19    16\n",
              "8     16\n",
              "10    16\n",
              "12    15\n",
              "14    12\n",
              "2     12\n",
              "23    12\n",
              "16    12\n",
              "17    12\n",
              "20    12\n",
              "21    12\n",
              "11    12\n",
              "22    11\n",
              "7     11\n",
              "18    11\n",
              "9     10\n",
              "5     10\n",
              "13     8\n",
              "6      8\n",
              "15     7\n",
              "1      7\n",
              "Name: hour, dtype: int64>"
            ]
          },
          "metadata": {
            "tags": []
          },
          "execution_count": 42
        }
      ]
    },
    {
      "cell_type": "code",
      "metadata": {
        "colab": {
          "base_uri": "https://localhost:8080/"
        },
        "id": "rVrj-XZ8DTqp",
        "outputId": "fe59b5d5-2c14-4938-fbb6-ed8fa131858d"
      },
      "source": [
        "# the most popular hour for returning cars\n",
        "df_paris_2[df_paris_2['utilib_Dif'] > 0].groupby('hour')['hour'].count().sort_values(ascending= False)"
      ],
      "execution_count": 43,
      "outputs": [
        {
          "output_type": "execute_result",
          "data": {
            "text/plain": [
              "hour\n",
              "9     17\n",
              "17    15\n",
              "5     15\n",
              "21    14\n",
              "22    14\n",
              "10    13\n",
              "6     12\n",
              "15    12\n",
              "3     12\n",
              "19    11\n",
              "16    11\n",
              "1     11\n",
              "12    11\n",
              "20    10\n",
              "18    10\n",
              "23     9\n",
              "11     9\n",
              "7      9\n",
              "13     9\n",
              "8      8\n",
              "4      8\n",
              "14     8\n",
              "0      7\n",
              "2      6\n",
              "Name: hour, dtype: int64"
            ]
          },
          "metadata": {
            "tags": []
          },
          "execution_count": 43
        }
      ]
    },
    {
      "cell_type": "code",
      "metadata": {
        "colab": {
          "base_uri": "https://localhost:8080/"
        },
        "id": "eMrP-k14EH4H",
        "outputId": "834435fa-7788-40c3-aa01-3f406b0b7784"
      },
      "source": [
        "# the most popular station \n",
        "# the most popular picking hour\n",
        "df_pop_station = df_paris_2[(df_paris_2['kind'] == 'STATION') & (df_paris_2['charging_status'] == 'operational')].groupby('public_name')['public_name'].count().sort_values(ascending= False)\n",
        "df_pop_station"
      ],
      "execution_count": 44,
      "outputs": [
        {
          "output_type": "execute_result",
          "data": {
            "text/plain": [
              "public_name\n",
              "Paris/Porte de Montrouge/8    13\n",
              "Paris/Courcelles/69           11\n",
              "Paris/Voltaire/182            11\n",
              "Paris/Philippe Auguste/126    11\n",
              "Paris/Georges Mandel/42       10\n",
              "                              ..\n",
              "Paris/Maine/4                  1\n",
              "Paris/Paul Doumer/72           1\n",
              "Paris/Bobillot/16              1\n",
              "Paris/Murat/157                1\n",
              "Paris/Claude Decaen/26         1\n",
              "Name: public_name, Length: 380, dtype: int64"
            ]
          },
          "metadata": {
            "tags": []
          },
          "execution_count": 44
        }
      ]
    },
    {
      "cell_type": "code",
      "metadata": {
        "colab": {
          "base_uri": "https://localhost:8080/"
        },
        "id": "vrcHU1hWGq4g",
        "outputId": "2d9689c2-5e46-4e05-a34d-ba4b2e1d8191"
      },
      "source": [
        "# most popular picking hour\n",
        "\n",
        "\n",
        "df_paris_2[(df_paris_2['kind'] == 'STATION') & (df_paris_2['charging_status'] == 'operational')].groupby('hour')['public_name'].count().sort_values(ascending= False).head(1)"
      ],
      "execution_count": 45,
      "outputs": [
        {
          "output_type": "execute_result",
          "data": {
            "text/plain": [
              "hour\n",
              "21    90\n",
              "Name: public_name, dtype: int64"
            ]
          },
          "metadata": {
            "tags": []
          },
          "execution_count": 45
        }
      ]
    },
    {
      "cell_type": "code",
      "metadata": {
        "colab": {
          "base_uri": "https://localhost:8080/"
        },
        "id": "HR9rnGi2HJIw",
        "outputId": "12665a70-e7ae-4885-8b73-e4473beb3065"
      },
      "source": [
        "# What postal code is the most popular for picking up utilib_1.4_counter Does the most popular station belong to that postal code? Overall?\n",
        "df_paris_2[(df_paris_2['kind'] == 'STATION') & (df_paris_2['bluecar_counter'] == 0)].groupby('postal_code')['postal_code'].value_counts().sort_values(ascending= False).head(1)"
      ],
      "execution_count": 46,
      "outputs": [
        {
          "output_type": "execute_result",
          "data": {
            "text/plain": [
              "postal_code  postal_code\n",
              "75008        75008          89\n",
              "Name: postal_code, dtype: int64"
            ]
          },
          "metadata": {
            "tags": []
          },
          "execution_count": 46
        }
      ]
    },
    {
      "cell_type": "code",
      "metadata": {
        "colab": {
          "base_uri": "https://localhost:8080/"
        },
        "id": "mVm5sSSAHrqV",
        "outputId": "f851b227-12fe-4baa-fd71-539e54a249fc"
      },
      "source": [
        "# most popular picking hour\n",
        "df_paris_2[(df_paris_2['kind'] == 'STATION') & (df['charging_status'] == 'operational')].groupby('hour')['public_name'].count().sort_values(ascending= False).head(1)"
      ],
      "execution_count": 47,
      "outputs": [
        {
          "output_type": "stream",
          "text": [
            "/usr/local/lib/python3.7/dist-packages/ipykernel_launcher.py:4: UserWarning: Boolean Series key will be reindexed to match DataFrame index.\n",
            "  after removing the cwd from sys.path.\n"
          ],
          "name": "stderr"
        },
        {
          "output_type": "execute_result",
          "data": {
            "text/plain": [
              "hour\n",
              "21    90\n",
              "Name: public_name, dtype: int64"
            ]
          },
          "metadata": {
            "tags": []
          },
          "execution_count": 47
        }
      ]
    }
  ]
}